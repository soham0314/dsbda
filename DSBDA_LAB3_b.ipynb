{
  "cells": [
    {
      "cell_type": "code",
      "execution_count": null,
      "metadata": {
        "id": "NkQ5mHAG82fr"
      },
      "outputs": [],
      "source": [
        "import pandas as pd\n",
        "import numpy as np\n",
        "import statistics as st\n",
        "df = pd.read_csv(\"loan.csv\")\n"
      ]
    },
    {
      "cell_type": "code",
      "execution_count": null,
      "metadata": {
        "id": "x21bDf_J82ft",
        "outputId": "ecf7ea75-06d0-4489-b50f-29de11cb17b6"
      },
      "outputs": [
        {
          "name": "stdout",
          "output_type": "stream",
          "text": [
            "(500, 15)\n"
          ]
        }
      ],
      "source": [
        "print(df.shape)\n"
      ]
    },
    {
      "cell_type": "code",
      "execution_count": null,
      "metadata": {
        "id": "QP-5v6n382fu",
        "outputId": "1a4f252d-dc3e-4dd0-ce9e-c8b3c93a3c56"
      },
      "outputs": [
        {
          "name": "stdout",
          "output_type": "stream",
          "text": [
            "<class 'pandas.core.frame.DataFrame'>\n",
            "RangeIndex: 500 entries, 0 to 499\n",
            "Data columns (total 15 columns):\n",
            " #   Column             Non-Null Count  Dtype  \n",
            "---  ------             --------------  -----  \n",
            " 0   Unnamed: 0         500 non-null    int64  \n",
            " 1   Loan_ID            500 non-null    object \n",
            " 2   Gender             491 non-null    object \n",
            " 3   Married            497 non-null    object \n",
            " 4   Dependents         488 non-null    object \n",
            " 5   Education          500 non-null    object \n",
            " 6   Self_Employed      473 non-null    object \n",
            " 7   ApplicantIncome    500 non-null    int64  \n",
            " 8   CoapplicantIncome  500 non-null    float64\n",
            " 9   LoanAmount         482 non-null    float64\n",
            " 10  Loan_Amount_Term   486 non-null    float64\n",
            " 11  Credit_History     459 non-null    float64\n",
            " 12  Property_Area      500 non-null    object \n",
            " 13  Loan_Status        500 non-null    object \n",
            " 14  Total_Income       500 non-null    object \n",
            "dtypes: float64(4), int64(2), object(9)\n",
            "memory usage: 58.7+ KB\n",
            "None\n"
          ]
        }
      ],
      "source": [
        "print(df.info())\n"
      ]
    },
    {
      "cell_type": "code",
      "execution_count": null,
      "metadata": {
        "id": "bwAk--g682fv",
        "outputId": "8e40677c-923a-456a-dd56-691ff7063431"
      },
      "outputs": [
        {
          "data": {
            "text/plain": [
              "Unnamed: 0            249.500000\n",
              "ApplicantIncome      5493.644000\n",
              "CoapplicantIncome    1506.307840\n",
              "LoanAmount            144.020747\n",
              "Loan_Amount_Term      342.543210\n",
              "Credit_History          0.843137\n",
              "dtype: float64"
            ]
          },
          "execution_count": 4,
          "metadata": {},
          "output_type": "execute_result"
        }
      ],
      "source": [
        "df.mean()\n"
      ]
    },
    {
      "cell_type": "code",
      "execution_count": null,
      "metadata": {
        "id": "ES_cIXA682fv",
        "outputId": "8e202e89-2541-4f74-aec5-e9d350f16796"
      },
      "outputs": [
        {
          "data": {
            "text/plain": [
              "Unnamed: 0                    499\n",
              "Loan_ID                  LP002602\n",
              "Education            Not Graduate\n",
              "ApplicantIncome             81000\n",
              "CoapplicantIncome           20000\n",
              "LoanAmount                    700\n",
              "Loan_Amount_Term              480\n",
              "Credit_History                  1\n",
              "Property_Area               Urban\n",
              "Loan_Status                     Y\n",
              "Total_Income            $9,993.00\n",
              "dtype: object"
            ]
          },
          "execution_count": 5,
          "metadata": {},
          "output_type": "execute_result"
        }
      ],
      "source": [
        "df.max()\n"
      ]
    },
    {
      "cell_type": "code",
      "execution_count": null,
      "metadata": {
        "id": "jjqE7-1I82fv",
        "outputId": "4abe382b-0e7d-431f-e0cc-2aaad20ee81a"
      },
      "outputs": [
        {
          "data": {
            "text/plain": [
              "Unnamed: 0                   0\n",
              "Loan_ID               LP001002\n",
              "Education             Graduate\n",
              "ApplicantIncome            150\n",
              "CoapplicantIncome            0\n",
              "LoanAmount                  17\n",
              "Loan_Amount_Term            12\n",
              "Credit_History               0\n",
              "Property_Area            Rural\n",
              "Loan_Status                  N\n",
              "Total_Income         $1,442.00\n",
              "dtype: object"
            ]
          },
          "execution_count": 6,
          "metadata": {},
          "output_type": "execute_result"
        }
      ],
      "source": [
        "df.min()\n"
      ]
    },
    {
      "cell_type": "code",
      "execution_count": null,
      "metadata": {
        "id": "wolCqfjW82fw",
        "outputId": "38b95c74-07cf-4590-959a-a6b36ee27bd8"
      },
      "outputs": [
        {
          "data": {
            "text/plain": [
              "Unnamed: 0            249.5\n",
              "ApplicantIncome      3854.0\n",
              "CoapplicantIncome    1125.5\n",
              "LoanAmount            126.5\n",
              "Loan_Amount_Term      360.0\n",
              "Credit_History          1.0\n",
              "dtype: float64"
            ]
          },
          "execution_count": 7,
          "metadata": {},
          "output_type": "execute_result"
        }
      ],
      "source": [
        "df.median()\n"
      ]
    },
    {
      "cell_type": "code",
      "execution_count": null,
      "metadata": {
        "id": "StjhEfEV82fw",
        "outputId": "13aba7c1-1964-4b01-dd19-e1343951aa94"
      },
      "outputs": [
        {
          "data": {
            "text/plain": [
              "Unnamed: 0            144.481833\n",
              "ApplicantIncome      6515.668972\n",
              "CoapplicantIncome    2134.432188\n",
              "LoanAmount             82.344919\n",
              "Loan_Amount_Term       63.834977\n",
              "Credit_History          0.364068\n",
              "dtype: float64"
            ]
          },
          "execution_count": 8,
          "metadata": {},
          "output_type": "execute_result"
        }
      ],
      "source": [
        "df.std()\n"
      ]
    },
    {
      "cell_type": "code",
      "execution_count": null,
      "metadata": {
        "id": "HHGJ7ywd82fw",
        "outputId": "8fa6c26c-42cd-47b2-ad52-d41544e919d7"
      },
      "outputs": [
        {
          "name": "stdout",
          "output_type": "stream",
          "text": [
            "144.0207468879668\n"
          ]
        }
      ],
      "source": [
        "print(df.loc[:,'LoanAmount'].mean())\n"
      ]
    },
    {
      "cell_type": "code",
      "execution_count": null,
      "metadata": {
        "id": "xGUVWejK82fw",
        "outputId": "e4dab38f-a65d-4f2a-d887-10a755a67db9"
      },
      "outputs": [
        {
          "data": {
            "text/plain": [
              "0    1242.000000\n",
              "1    1096.833333\n",
              "2     571.500000\n",
              "3     904.166667\n",
              "4    1084.333333\n",
              "dtype: float64"
            ]
          },
          "execution_count": 10,
          "metadata": {},
          "output_type": "execute_result"
        }
      ],
      "source": [
        "df.mean(axis = 1)[0:5]\n"
      ]
    },
    {
      "cell_type": "code",
      "execution_count": null,
      "metadata": {
        "id": "vdKTW_h782fx",
        "outputId": "dbd11b01-548a-4132-bbdb-9d41f188c5bd"
      },
      "outputs": [
        {
          "name": "stdout",
          "output_type": "stream",
          "text": [
            "126.5\n"
          ]
        }
      ],
      "source": [
        "print(df.loc[:,'LoanAmount'].median())\n"
      ]
    },
    {
      "cell_type": "code",
      "execution_count": null,
      "metadata": {
        "id": "THFxjRiP82fx",
        "outputId": "63913b88-ccf1-4801-a495-03175a0de8aa"
      },
      "outputs": [
        {
          "data": {
            "text/plain": [
              "0      1.0\n",
              "1    244.0\n",
              "2     34.0\n",
              "3    240.0\n",
              "4     72.5\n",
              "dtype: float64"
            ]
          },
          "execution_count": 12,
          "metadata": {},
          "output_type": "execute_result"
        }
      ],
      "source": [
        "df.median(axis = 1)[0:5]\n"
      ]
    },
    {
      "cell_type": "code",
      "execution_count": null,
      "metadata": {
        "id": "ifTsNNLv82fx",
        "outputId": "04782005-9742-4e52-c4fd-02a33ee09739"
      },
      "outputs": [
        {
          "data": {
            "text/plain": [
              "Unnamed: 0           2.087500e+04\n",
              "ApplicantIncome      4.245394e+07\n",
              "CoapplicantIncome    4.555801e+06\n",
              "LoanAmount           6.780686e+03\n",
              "Loan_Amount_Term     4.074904e+03\n",
              "Credit_History       1.325456e-01\n",
              "dtype: float64"
            ]
          },
          "execution_count": 13,
          "metadata": {},
          "output_type": "execute_result"
        }
      ],
      "source": [
        "df.var()\n"
      ]
    },
    {
      "cell_type": "code",
      "execution_count": null,
      "metadata": {
        "id": "IX2S1aqI82fx",
        "outputId": "efb83ee4-2f54-47bc-fbd0-b01fe5ddce4d"
      },
      "outputs": [
        {
          "data": {
            "text/html": [
              "<div>\n",
              "<style scoped>\n",
              "    .dataframe tbody tr th:only-of-type {\n",
              "        vertical-align: middle;\n",
              "    }\n",
              "\n",
              "    .dataframe tbody tr th {\n",
              "        vertical-align: top;\n",
              "    }\n",
              "\n",
              "    .dataframe thead th {\n",
              "        text-align: right;\n",
              "    }\n",
              "</style>\n",
              "<table border=\"1\" class=\"dataframe\">\n",
              "  <thead>\n",
              "    <tr style=\"text-align: right;\">\n",
              "      <th></th>\n",
              "      <th>LoanAmount</th>\n",
              "    </tr>\n",
              "    <tr>\n",
              "      <th>Gender</th>\n",
              "      <th></th>\n",
              "    </tr>\n",
              "  </thead>\n",
              "  <tbody>\n",
              "    <tr>\n",
              "      <th>Female</th>\n",
              "      <td>121.068182</td>\n",
              "    </tr>\n",
              "    <tr>\n",
              "      <th>Male</th>\n",
              "      <td>147.197403</td>\n",
              "    </tr>\n",
              "  </tbody>\n",
              "</table>\n",
              "</div>"
            ],
            "text/plain": [
              "        LoanAmount\n",
              "Gender            \n",
              "Female  121.068182\n",
              "Male    147.197403"
            ]
          },
          "execution_count": 14,
          "metadata": {},
          "output_type": "execute_result"
        }
      ],
      "source": [
        "df[[\"Gender\",\"LoanAmount\"]].groupby(\"Gender\").mean()\n"
      ]
    },
    {
      "cell_type": "code",
      "execution_count": null,
      "metadata": {
        "id": "w9UYmdFt82fx",
        "outputId": "f60a41af-fe84-487b-9de5-215a0d665082"
      },
      "outputs": [
        {
          "data": {
            "text/html": [
              "<div>\n",
              "<style scoped>\n",
              "    .dataframe tbody tr th:only-of-type {\n",
              "        vertical-align: middle;\n",
              "    }\n",
              "\n",
              "    .dataframe tbody tr th {\n",
              "        vertical-align: top;\n",
              "    }\n",
              "\n",
              "    .dataframe thead th {\n",
              "        text-align: right;\n",
              "    }\n",
              "</style>\n",
              "<table border=\"1\" class=\"dataframe\">\n",
              "  <thead>\n",
              "    <tr style=\"text-align: right;\">\n",
              "      <th></th>\n",
              "      <th>LoanAmount</th>\n",
              "    </tr>\n",
              "    <tr>\n",
              "      <th>Gender</th>\n",
              "      <th></th>\n",
              "    </tr>\n",
              "  </thead>\n",
              "  <tbody>\n",
              "    <tr>\n",
              "      <th>Female</th>\n",
              "      <td>115.5</td>\n",
              "    </tr>\n",
              "    <tr>\n",
              "      <th>Male</th>\n",
              "      <td>128.0</td>\n",
              "    </tr>\n",
              "  </tbody>\n",
              "</table>\n",
              "</div>"
            ],
            "text/plain": [
              "        LoanAmount\n",
              "Gender            \n",
              "Female       115.5\n",
              "Male         128.0"
            ]
          },
          "execution_count": 15,
          "metadata": {},
          "output_type": "execute_result"
        }
      ],
      "source": [
        "df[[\"Gender\",\"LoanAmount\"]].groupby(\"Gender\").median()\n"
      ]
    },
    {
      "cell_type": "code",
      "execution_count": null,
      "metadata": {
        "id": "rNi_tOzn82fx",
        "outputId": "e7eadead-9612-45c3-8f90-be4763fbe4d8"
      },
      "outputs": [
        {
          "data": {
            "text/html": [
              "<div>\n",
              "<style scoped>\n",
              "    .dataframe tbody tr th:only-of-type {\n",
              "        vertical-align: middle;\n",
              "    }\n",
              "\n",
              "    .dataframe tbody tr th {\n",
              "        vertical-align: top;\n",
              "    }\n",
              "\n",
              "    .dataframe thead th {\n",
              "        text-align: right;\n",
              "    }\n",
              "</style>\n",
              "<table border=\"1\" class=\"dataframe\">\n",
              "  <thead>\n",
              "    <tr style=\"text-align: right;\">\n",
              "      <th></th>\n",
              "      <th>LoanAmount</th>\n",
              "    </tr>\n",
              "    <tr>\n",
              "      <th>Self_Employed</th>\n",
              "      <th></th>\n",
              "    </tr>\n",
              "  </thead>\n",
              "  <tbody>\n",
              "    <tr>\n",
              "      <th>No</th>\n",
              "      <td>141.836735</td>\n",
              "    </tr>\n",
              "    <tr>\n",
              "      <th>Yes</th>\n",
              "      <td>155.312500</td>\n",
              "    </tr>\n",
              "  </tbody>\n",
              "</table>\n",
              "</div>"
            ],
            "text/plain": [
              "               LoanAmount\n",
              "Self_Employed            \n",
              "No             141.836735\n",
              "Yes            155.312500"
            ]
          },
          "execution_count": 16,
          "metadata": {},
          "output_type": "execute_result"
        }
      ],
      "source": [
        "df[[\"Self_Employed\",\"LoanAmount\"]].groupby(\"Self_Employed\").mean()\n"
      ]
    },
    {
      "cell_type": "code",
      "execution_count": null,
      "metadata": {
        "id": "m1CAapxl82fy"
      },
      "outputs": [],
      "source": []
    }
  ],
  "metadata": {
    "kernelspec": {
      "display_name": "Python 3",
      "language": "python",
      "name": "python3"
    },
    "language_info": {
      "codemirror_mode": {
        "name": "ipython",
        "version": 3
      },
      "file_extension": ".py",
      "mimetype": "text/x-python",
      "name": "python",
      "nbconvert_exporter": "python",
      "pygments_lexer": "ipython3",
      "version": "3.7.6"
    },
    "colab": {
      "provenance": []
    }
  },
  "nbformat": 4,
  "nbformat_minor": 0
}